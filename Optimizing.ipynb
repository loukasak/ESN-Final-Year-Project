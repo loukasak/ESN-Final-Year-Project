{
 "cells": [
  {
   "cell_type": "markdown",
   "id": "c9b985dc-3cc9-47a1-be83-11cc046c4394",
   "metadata": {},
   "source": [
    "# Optimizing"
   ]
  },
  {
   "cell_type": "code",
   "execution_count": 1,
   "id": "361d5bcb-5828-4325-b3d4-6add6a42dc21",
   "metadata": {},
   "outputs": [],
   "source": [
    "from fyp_code import loukas_esn, optimize2, utilities as util\n",
    "from colorama import Fore\n",
    "import numpy as np\n",
    "import matplotlib.pyplot as plt\n",
    "import math\n",
    "import copy\n",
    "from mpl_toolkits import mplot3d\n",
    "plt.rcParams[\"figure.figsize\"] = [4,3]\n",
    "plt.rcParams['figure.dpi'] = 200"
   ]
  },
  {
   "cell_type": "code",
   "execution_count": 2,
   "id": "3a50f0bf-0d03-4dd3-ae65-1fd815b07797",
   "metadata": {},
   "outputs": [],
   "source": [
    "# initialise input data\n",
    "data_mg = util.data_mg()\n",
    "data_sin1 = util.data_sin(order=1)\n",
    "data_sin2 = util.data_sin(order=2)\n",
    "data_sin3 = util.data_sin(order=3)\n",
    "\n",
    "# initialise parameter spaces for mg\n",
    "rhos_mg = np.linspace(0.7,1.3,30)\n",
    "alphas_mg = np.linspace(0.3,0.9,30)\n",
    "betas_mg = np.logspace(-8,-2,30)\n",
    "\n",
    "rho_mg = 1\n",
    "alpha_mg = 0.7\n",
    "beta_mg = 1e-7\n",
    "sparse_mg = 0.7\n",
    "\n",
    "# initialise parameter spaces for sin3\n",
    "rhos_sin3 = np.linspace(0.7,1.3,30)\n",
    "alphas_sin3 = np.linspace(0.3,0.9,30)\n",
    "betas_sin3 = np.logspace(-8,-2,30)\n",
    "\n",
    "rho_sin3 = 1\n",
    "alpha_sin3 = 0.7\n",
    "beta_sin3 = 1e-7\n",
    "sparse_sin3 = 0.7\n",
    "\n",
    "N = 500\n",
    "inodes = 1      # input nodes\n",
    "onodes = 1      # output nodes\n",
    "ttr = 1000      # training time\n",
    "twash = 200     # washout time"
   ]
  },
  {
   "cell_type": "code",
   "execution_count": 4,
   "id": "07307849-5292-4ca9-914b-035859605e35",
   "metadata": {},
   "outputs": [],
   "source": [
    "# initialise Optimizer2 object\n",
    "esn_mg = loukas_esn.Esn(data_mg, rho_mg, alpha_mg, beta_mg, inodes, onodes, ttr, twash, N, sparse_mg, seed_init=5267)\n",
    "opt_mg = optimize2.Optimizer2(esn_mg, rhos_mg, alphas_mg, betas_mg)\n",
    "\n",
    "esn_sin3 = loukas_esn.Esn(data_sin3, rho_sin3, alpha_sin3, beta_sin3, inodes, onodes, ttr, twash, N, sparse_mg, seed_init=5267)\n",
    "opt_sin3 = optimize2.Optimizer2(esn_sin3, rhos_sin3, alphas_sin3, betas_sin3)"
   ]
  },
  {
   "cell_type": "markdown",
   "id": "19e4e548-580c-4e5d-a5ec-f03f50922ca8",
   "metadata": {},
   "source": [
    "## Grid-search functions"
   ]
  },
  {
   "cell_type": "markdown",
   "id": "1e18d618-0ed3-4078-af0f-d6e2a1277471",
   "metadata": {},
   "source": [
    "#### Optimize rho"
   ]
  },
  {
   "cell_type": "code",
   "execution_count": null,
   "id": "68896463-4c99-4252-8702-4e39cd99a493",
   "metadata": {},
   "outputs": [],
   "source": [
    "opt_mg_r = opt_mg.opt_rho(mute=False)"
   ]
  },
  {
   "cell_type": "code",
   "execution_count": null,
   "id": "7d35cda3-f3f9-4027-8599-c3e645d9db86",
   "metadata": {},
   "outputs": [],
   "source": [
    "opt_sin3_r = opt_sin3.opt_rho(mute=False)"
   ]
  },
  {
   "cell_type": "markdown",
   "id": "86a9636b-1f1d-4e28-8ad4-bc4e28a2eb50",
   "metadata": {},
   "source": [
    "#### Optimize alpha"
   ]
  },
  {
   "cell_type": "code",
   "execution_count": null,
   "id": "9c368e51-2128-483d-adaa-d364657e43dc",
   "metadata": {},
   "outputs": [],
   "source": [
    "opt_a = opt_mg.opt_alpha(mute=True)\n",
    "print(\"optimal alpha: {}\\nnmse: {}\\nalpha/nmse dictionary: {}\".format(opt_a[0],opt_a[1],opt_a[2]))"
   ]
  },
  {
   "cell_type": "markdown",
   "id": "f1a26761-2d36-435f-b584-54ae92c6b0a3",
   "metadata": {},
   "source": [
    "#### Optimize rho + alpha"
   ]
  },
  {
   "cell_type": "code",
   "execution_count": null,
   "id": "9d5742aa-d8d9-43a9-a6eb-84324f546d7f",
   "metadata": {},
   "outputs": [],
   "source": [
    "rs, als, ns = opt_mg.opt_rho_alpha()\n",
    "#rs"
   ]
  },
  {
   "cell_type": "code",
   "execution_count": null,
   "id": "e8aa5f38-76fd-4898-b7bb-4f5a85021edb",
   "metadata": {},
   "outputs": [],
   "source": []
  },
  {
   "cell_type": "code",
   "execution_count": null,
   "id": "a9fbcda1-f340-4571-ac90-a92b1104645d",
   "metadata": {},
   "outputs": [],
   "source": []
  },
  {
   "cell_type": "code",
   "execution_count": null,
   "id": "9760d8dd-2ebc-4eb4-92b6-4cd193822f7f",
   "metadata": {},
   "outputs": [],
   "source": [
    "rs, als, ns = opt_sin3.opt_rho_alpha()"
   ]
  },
  {
   "cell_type": "markdown",
   "id": "741e1e58-056b-4821-aa38-468f126d13e4",
   "metadata": {},
   "source": [
    "#### Optimize beta"
   ]
  },
  {
   "cell_type": "code",
   "execution_count": null,
   "id": "5cfdf633-a1ef-4dc7-9133-5e70c1737c96",
   "metadata": {},
   "outputs": [],
   "source": [
    "opt_bv = opt_mg.opt_beta_val(mute=True)\n",
    "optimize2.print_optimal(opt_bv[2],\"beta\")"
   ]
  },
  {
   "cell_type": "code",
   "execution_count": null,
   "id": "d7f00ac8-63cc-466d-a761-873891bf7e95",
   "metadata": {},
   "outputs": [],
   "source": [
    "opt_bt = opt_mg.opt_beta_test(mute=False)"
   ]
  },
  {
   "cell_type": "markdown",
   "id": "0828dea5-c57e-48c4-a2dc-c562d1f97f5e",
   "metadata": {},
   "source": [
    "#### Optimize W sparsity"
   ]
  },
  {
   "cell_type": "code",
   "execution_count": null,
   "id": "efacb00e-fe7b-49f4-9131-0fc8eae7ec7d",
   "metadata": {},
   "outputs": [],
   "source": [
    "opt_Ws = opt_mg.opt_W_sparsity(start=0.2,end=0.75,count=13.6,mute=False)"
   ]
  },
  {
   "cell_type": "markdown",
   "id": "24c269cc-2b9d-45d0-ad6a-ad08a0866c94",
   "metadata": {},
   "source": [
    "## Plotting optimizations"
   ]
  },
  {
   "cell_type": "markdown",
   "id": "56f159c4-9c97-4be3-9ba7-15222395cbc6",
   "metadata": {},
   "source": [
    "#### Plotting rho"
   ]
  },
  {
   "cell_type": "code",
   "execution_count": null,
   "id": "245d02c1-ee82-4f25-a35b-0e8e1fec1d46",
   "metadata": {},
   "outputs": [],
   "source": [
    "rn = opt_mg.collect_rhos(mute=False)\n",
    "opt_mg.plot_rhos(rn)\n",
    "\n",
    "opt_rho = optimize2.min_from_dict(rn)\n",
    "print(Fore.GREEN + \"\\nOptimal rho: {}, nmse: {}\".format(opt_rho,rn[opt_rho]))"
   ]
  },
  {
   "cell_type": "markdown",
   "id": "90516894-fee0-4640-8bb8-912194c1c92f",
   "metadata": {},
   "source": [
    "#### Plotting alpha"
   ]
  },
  {
   "cell_type": "code",
   "execution_count": null,
   "id": "e826d715-0f89-4d17-893f-f825873ab2ca",
   "metadata": {},
   "outputs": [],
   "source": [
    "an = opt_mg.collect_alphas(mute=False)\n",
    "opt_mg.plot_alphas(an)\n",
    "\n",
    "opt_alpha = optimize2.min_from_dict(an)\n",
    "print(Fore.GREEN + \"\\nOptimal alpha: {}, nmse: {}\".format(opt_alpha,an[opt_alpha]))"
   ]
  },
  {
   "cell_type": "markdown",
   "id": "5aa51e65-aff0-4538-b576-9407521d0ca9",
   "metadata": {},
   "source": [
    "#### Plotting beta"
   ]
  },
  {
   "cell_type": "code",
   "execution_count": 5,
   "id": "8578416a-88f5-4444-bc58-3fa8ec5a0d8d",
   "metadata": {},
   "outputs": [
    {
     "data": {
      "image/png": "[encoded data removed]",
      "text/plain": [
       "<Figure size 800x600 with 1 Axes>"
      ]
     },
     "metadata": {
      "needs_background": "light"
     },
     "output_type": "display_data"
    },
    {
     "name": "stdout",
     "output_type": "stream",
     "text": [
      "\u001b[32m\n",
      "Optimal beta: 6.723357536499335e-08, nmse: 4.282303260562559e-05\n"
     ]
    }
   ],
   "source": [
    "bn = opt_mg.collect_betas(mute=True)\n",
    "opt_mg.plot_betas(bn)\n",
    "\n",
    "opt_beta = optimize2.min_from_dict(bn)\n",
    "print(Fore.GREEN + \"\\nOptimal beta: {}, nmse: {}\".format(opt_beta,bn[opt_beta]))"
   ]
  },
  {
   "cell_type": "code",
   "execution_count": null,
   "id": "72cdef08-0bb4-413c-af3d-dad8cd706ce8",
   "metadata": {},
   "outputs": [],
   "source": [
    "bn = opt_sin3.collect_betas(mute=False)\n",
    "opt_sin3.plot_betas(bn)\n",
    "\n",
    "opt_beta = optimize2.min_from_dict(bn)\n",
    "print(Fore.GREEN + \"\\nOptimal beta: {}, nmse: {}\".format(opt_beta,bn[opt_beta]))"
   ]
  },
  {
   "cell_type": "markdown",
   "id": "7f75507b-bdf0-4b95-8d83-d3405fde85df",
   "metadata": {},
   "source": [
    "#### Plotting W sparsity"
   ]
  },
  {
   "cell_type": "markdown",
   "id": "90aabb2c-de15-46e9-8ec8-c5e20dcdfb5e",
   "metadata": {},
   "source": [
    "Changes in W sparsity have a minimal effect on performance once sufficiently distant from the extremes, 0 and 1. Even 0.05-0.95 qualifies at sufficiently distant.\n",
    "\n",
    "Additionally, changing sparsity unavoidably affects the random nature of the W matrix, so if other parameters have been optimized for a W matrix of particular sparsity, there's no guarantee these parameters will be optimal for any other sparsity or W matrix by extension.\n",
    "\n",
    "In other words, sparsity optimization is available but low priority. Could be useful if other parameters are fixed and unoptimizable."
   ]
  },
  {
   "cell_type": "code",
   "execution_count": null,
   "id": "7ecfedac-4c2e-4121-9eb5-0be62f8983fc",
   "metadata": {},
   "outputs": [],
   "source": [
    "sn = opt_mg.collect_W_sparsities(start=0.1,end=0.9,count=20,mute=True)\n",
    "opt_mg.plot_W_sparsities(sn)\n",
    "\n",
    "optimize2.print_optimal(sn,\"W sparsity\")"
   ]
  },
  {
   "cell_type": "markdown",
   "id": "dca9b744-31df-4a1d-bc38-d4062380a08e",
   "metadata": {},
   "source": [
    "## Equality checking"
   ]
  },
  {
   "cell_type": "code",
   "execution_count": null,
   "id": "4ad346ad-5528-41f7-b6f2-3f0c0a2b4c9f",
   "metadata": {},
   "outputs": [],
   "source": [
    "# make a copy of the esn to check\n",
    "e1 = copy.deepcopy(opt_mg.esn)"
   ]
  },
  {
   "cell_type": "code",
   "execution_count": null,
   "id": "57436da7-f9e9-4440-8809-29869733744e",
   "metadata": {
    "tags": []
   },
   "outputs": [],
   "source": [
    "# run opt_mg for some optimization and then come back here to check if/how any variables changed (they shouldn't have)\n",
    "loukas_esn.compare_vars(e1,opt_mg.esn)"
   ]
  },
  {
   "cell_type": "code",
   "execution_count": null,
   "id": "f0e12b1f-34ca-42a2-aa34-d829492dc28b",
   "metadata": {},
   "outputs": [],
   "source": [
    "# see what happens when they do change:\n",
    "e1 = copy.deepcopy(opt_mg.esn)\n",
    "e1.set_rho(0.96)\n",
    "e1.set_beta(5)\n",
    "e1.set_alpha(6.4e-3)\n",
    "e1.W = np.random.uniform(low=-1.5, high=1.5, size=(N_mg,N_mg))\n",
    "loukas_esn.compare_vars(e1,opt_mg.esn)"
   ]
  },
  {
   "cell_type": "markdown",
   "id": "b981f6fd-91ed-49be-81bc-fcae1d11ed69",
   "metadata": {},
   "source": [
    "## Example optimization script"
   ]
  },
  {
   "cell_type": "code",
   "execution_count": null,
   "id": "44b15979-29c9-4591-a895-88e50ae489fe",
   "metadata": {},
   "outputs": [],
   "source": [
    "# initialise input data\n",
    "data_mg = util.data_mg()\n",
    "\n",
    "# initialise parameter spaces\n",
    "rhos_mg = np.linspace(0.7,1.3,20)\n",
    "alphas_mg = np.linspace(0.3,0.9,20)\n",
    "betas_mg = np.logspace(-8,-3,20)\n",
    "\n",
    "# initialise parameter values\n",
    "rho_mg = 1.1\n",
    "alpha_mg = 0.7\n",
    "beta_mg = 1e-7\n",
    "sparse_mg = 0.5\n",
    "N_mg = 500\n",
    "\n",
    "inodes = 1      # input nodes\n",
    "onodes = 1      # output nodes\n",
    "ttr = 1000      # training time\n",
    "twash = 200     # washout time\n",
    "\n",
    "# initialise Esn & Optimizer2 object\n",
    "esn_0 = loukas_esn.Esn(data_mg, rho_mg, alpha_mg, beta_mg, inodes, onodes, ttr, twash, N_mg, sparse_mg)       # keep this unchanged\n",
    "esn_mg = copy.deepcopy(esn_0)                                                                                 # optimize this one\n",
    "opt_mg = optimize2.Optimizer2(esn_mg, rhos_mg, alphas_mg, betas_mg, test_time=1000)\n",
    "\n",
    "# optimize for rho/alpha\n",
    "r, a, n = opt_mg.opt_rho_alpha()\n",
    "\n",
    "# set new improved rho/alpha values\n",
    "opt_mg.esn.set_rho(r)\n",
    "opt_mg.esn.set_alpha(a)\n",
    "\n",
    "# optimize for beta with new rho/alpha values\n",
    "b, nb, bdict = opt_mg.opt_beta_test(mute=True)\n",
    "optimize2.print_optimal(bdict, \"beta\")\n",
    "\n",
    "# set new improved beta value\n",
    "opt_mg.esn.set_beta(b)"
   ]
  },
  {
   "cell_type": "code",
   "execution_count": null,
   "id": "a326b132-f8c0-4e3c-8501-c78424f3f70d",
   "metadata": {},
   "outputs": [],
   "source": [
    "# see the difference\n",
    "esn_0.train()\n",
    "esn_0.test(test_time=1000)\n",
    "esn_0.plot_test()\n",
    "print(Fore.CYAN + \"Original ESN: nmse test = {}\".format(esn_0.nmse_test))\n",
    "print(Fore.GREEN + \"rho = {}\\nalpha = {}\\nbeta = {}\".format(rho_mg,alpha_mg,beta_mg))"
   ]
  },
  {
   "cell_type": "code",
   "execution_count": null,
   "id": "f3fafdcd-8fdd-44b2-8213-7105adbc0fd4",
   "metadata": {},
   "outputs": [],
   "source": [
    "esn_mg.train()\n",
    "esn_mg.test(test_time=1000)\n",
    "esn_mg.plot_test()\n",
    "print(Fore.CYAN + \"Optimized ESN: nmse test = {}\".format(esn_mg.nmse_test))\n",
    "print(Fore.GREEN + \"rho = {}\\nalpha = {}\\nbeta = {}\".format(r,a,b))"
   ]
  },
  {
   "cell_type": "markdown",
   "id": "04f3e653-3db1-4d1c-9298-826ade0798dd",
   "metadata": {},
   "source": [
    "### Further optimization"
   ]
  },
  {
   "cell_type": "code",
   "execution_count": null,
   "id": "01100d2d-0e24-4e2a-b463-8b82c2be3423",
   "metadata": {},
   "outputs": [],
   "source": [
    "# reset esn activations to initial conditions\n",
    "esn_mg.reset_x()\n",
    "\n",
    "# optimize for W sparsity with new rho, alpha, beta\n",
    "s, ns, sdict = opt_mg.opt_W_sparsity(start=0.2,end=0.95,count=20)\n",
    "\n",
    "# set new improved W sparsity value\n",
    "opt_mg.esn.set_W_sparsity(s)"
   ]
  },
  {
   "cell_type": "code",
   "execution_count": null,
   "id": "b66e1b46-dd45-4e60-8bc9-6ab5ca3c79b6",
   "metadata": {},
   "outputs": [],
   "source": [
    "# see the difference\n",
    "esn_mg.train()\n",
    "esn_mg.test(test_time=1000)\n",
    "esn_mg.plot_test()\n",
    "print(Fore.CYAN + \"Optimized ESN: nmse test = {}\".format(esn_mg.nmse_test))\n",
    "print(Fore.GREEN + \"rho = {}\\nalpha = {}\\nbeta = {}\\nW-sparsity = {}\".format(r,a,b,s))"
   ]
  },
  {
   "cell_type": "code",
   "execution_count": null,
   "id": "05588a4c-9051-449f-ba09-85b86632caa8",
   "metadata": {},
   "outputs": [],
   "source": [
    "ns[360] = 200"
   ]
  },
  {
   "cell_type": "code",
   "execution_count": null,
   "id": "4b60ebea-8c73-4bba-a3f8-d0baee0ab493",
   "metadata": {},
   "outputs": [],
   "source": [
    "index = ns.index(min(ns))\n",
    "index"
   ]
  },
  {
   "cell_type": "code",
   "execution_count": null,
   "id": "76a5bffa-4971-43a3-88aa-78b243793a52",
   "metadata": {},
   "outputs": [],
   "source": [
    "ro = rs[index]\n",
    "ro"
   ]
  },
  {
   "cell_type": "code",
   "execution_count": null,
   "id": "107c9cfd-b866-41d5-84d6-e34f25fdab9c",
   "metadata": {},
   "outputs": [],
   "source": [
    "ao = als[index]\n",
    "ao"
   ]
  },
  {
   "cell_type": "code",
   "execution_count": null,
   "id": "aabaedb7-0188-4110-9659-17ee2c059e9a",
   "metadata": {},
   "outputs": [],
   "source": [
    "ns[index]"
   ]
  },
  {
   "cell_type": "markdown",
   "id": "9669d851-4aa6-4fd1-b157-2b763613ee63",
   "metadata": {},
   "source": [
    "## 3D Plotting"
   ]
  },
  {
   "cell_type": "code",
   "execution_count": null,
   "id": "52d4d4e0-b28e-4096-963f-dfa64f5e998c",
   "metadata": {},
   "outputs": [],
   "source": [
    "k = 4\n",
    "plt.rcParams[\"figure.figsize\"] = [k,k]\n",
    "plt.rcParams['figure.dpi'] = 200"
   ]
  },
  {
   "cell_type": "code",
   "execution_count": null,
   "id": "d977b80f-2865-4dba-9587-77865d6a1f84",
   "metadata": {},
   "outputs": [],
   "source": [
    "x = rs[:-32]\n",
    "y = als[:-32]\n",
    "z = ns[:-32]\n",
    "\n",
    "fig = plt.figure()\n",
    "plt.rcParams.update({'font.size': 7})\n",
    "ax = plt.axes(projection='3d')\n",
    "ax.scatter3D(x, y, z, c=z, cmap='viridis', s=5);\n",
    "ax.set_xlabel(\"rho\")\n",
    "ax.set_ylabel(\"alpha\")\n",
    "ax.set_zlabel(\"nmse\")\n",
    "ax.view_init(15, -55)"
   ]
  },
  {
   "cell_type": "code",
   "execution_count": null,
   "id": "b5b754d0-e687-490c-8378-bea7fde5c7f0",
   "metadata": {},
   "outputs": [],
   "source": [
    "fig = plt.figure()\n",
    "ax = plt.axes(projection='3d')\n",
    "#ax.scatter3D(rs[:-32], als[:-32], ns[:-32], c=ns[:-32].reverse(), cmap='Greens');\n",
    "ax.contour3D(rs[:-32], als[:-32], ns[:-32], 50, cmap='binary')\n",
    "ax.view_init(20, 65)"
   ]
  },
  {
   "cell_type": "code",
   "execution_count": null,
   "id": "1c491f3e-9bf9-40ba-80a4-4cbf59ab4c22",
   "metadata": {},
   "outputs": [],
   "source": []
  },
  {
   "cell_type": "code",
   "execution_count": 3,
   "id": "83440a68-5091-411d-85ca-6969c1c38d2f",
   "metadata": {},
   "outputs": [],
   "source": [
    "rho_mg = 1.3\n",
    "alpha_mg = 0.506896551724138\n",
    "#beta 1.7433288221999873e-07"
   ]
  },
  {
   "cell_type": "code",
   "execution_count": null,
   "id": "4e8cb213-d414-4bc2-bbe1-d4997409c30d",
   "metadata": {},
   "outputs": [],
   "source": [
    "rho_sin3 = 0.9896551724137931\n",
    "alpha_sin3 = 0.3"
   ]
  },
  {
   "cell_type": "code",
   "execution_count": null,
   "id": "e8ab5d6f-d46b-4a0b-903e-0c989b51bcd2",
   "metadata": {},
   "outputs": [],
   "source": []
  }
 ],
 "metadata": {
  "kernelspec": {
   "display_name": "Python 3 (ipykernel)",
   "language": "python",
   "name": "python3"
  },
  "language_info": {
   "codemirror_mode": {
    "name": "ipython",
    "version": 3
   },
   "file_extension": ".py",
   "mimetype": "text/x-python",
   "name": "python",
   "nbconvert_exporter": "python",
   "pygments_lexer": "ipython3",
   "version": "3.10.11"
  }
 },
 "nbformat": 4,
 "nbformat_minor": 5
}
